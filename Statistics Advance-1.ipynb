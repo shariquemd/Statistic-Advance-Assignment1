{
 "cells": [
  {
   "cell_type": "markdown",
   "id": "96cc2d7f",
   "metadata": {},
   "source": [
    "# Answer1"
   ]
  },
  {
   "cell_type": "code",
   "execution_count": null,
   "id": "25d054f9",
   "metadata": {},
   "outputs": [],
   "source": [
    "Probability Distribution function:It is the distribution of the continuous data."
   ]
  },
  {
   "cell_type": "markdown",
   "id": "97a48d4d",
   "metadata": {},
   "source": [
    "# Answer2"
   ]
  },
  {
   "cell_type": "code",
   "execution_count": null,
   "id": "fc065879",
   "metadata": {},
   "outputs": [],
   "source": [
    "Types of Probability Distribution:\n",
    "(i)Normal/Gaussian Distribution\n",
    "(ii)Bernoulli Distribution\n",
    "(iii)Uniform Distribution\n",
    "(iv)Long Normal Distribution\n",
    "(v)Poisson Distribution\n",
    "(vi)Power Low Distribution\n",
    "(vii)Binomial Distribution"
   ]
  },
  {
   "cell_type": "markdown",
   "id": "42461871",
   "metadata": {},
   "source": [
    "# Answer3"
   ]
  },
  {
   "cell_type": "code",
   "execution_count": 1,
   "id": "fb7f6652",
   "metadata": {},
   "outputs": [
    {
     "name": "stdout",
     "output_type": "stream",
     "text": [
      "PDF at 1.5: 0.12951759566589174\n"
     ]
    }
   ],
   "source": [
    "from scipy.stats import norm\n",
    "\n",
    "def normal_pdf(x, mean, std_dev):\n",
    "    pdf_value = norm.pdf(x, loc=mean, scale=std_dev)\n",
    "    return pdf_value\n",
    "\n",
    "# Example usage:\n",
    "mean_value = 0\n",
    "std_dev_value = 1\n",
    "point_to_evaluate = 1.5\n",
    "\n",
    "pdf_result = normal_pdf(point_to_evaluate, mean_value, std_dev_value)\n",
    "print(f\"PDF at {point_to_evaluate}: {pdf_result}\")\n"
   ]
  },
  {
   "cell_type": "markdown",
   "id": "2c29cc86",
   "metadata": {},
   "source": [
    "# Answer4"
   ]
  },
  {
   "cell_type": "code",
   "execution_count": null,
   "id": "8cf603a8",
   "metadata": {},
   "outputs": [],
   "source": [
    "It is the discrete probability distribution of a random variable which takes the values 1 with probability p and the value 0 with q=1-p.\n",
    "Example:Tossing a Fair Coin\n",
    "    Rolling a dice"
   ]
  },
  {
   "cell_type": "markdown",
   "id": "56e1ef92",
   "metadata": {},
   "source": [
    "# Answer5"
   ]
  },
  {
   "cell_type": "code",
   "execution_count": 15,
   "id": "39682c4d",
   "metadata": {},
   "outputs": [
    {
     "data": {
      "text/plain": [
       "0.413"
      ]
     },
     "execution_count": 15,
     "metadata": {},
     "output_type": "execute_result"
    }
   ],
   "source": [
    " import numpy as np\n",
    "import matplotlib.pyplot as plt\n",
    "random_sample=np.random.binomial(1, 0.4, 1000)\n"
   ]
  },
  {
   "cell_type": "code",
   "execution_count": 11,
   "id": "1481d17d",
   "metadata": {},
   "outputs": [
    {
     "data": {
      "image/png": "[encoded data removed]",
      "text/plain": [
       "<Figure size 640x480 with 1 Axes>"
      ]
     },
     "metadata": {},
     "output_type": "display_data"
    }
   ],
   "source": [
    "plt.hist(random_sample, bins=2, edgecolor='r')\n",
    "plt.title('Binomial Distribution with p=0.4')\n",
    "plt.xlabel('Outcome')\n",
    "plt.ylabel('Frequency')\n",
    "plt.show()"
   ]
  },
  {
   "cell_type": "markdown",
   "id": "e2624d4c",
   "metadata": {},
   "source": [
    "# Answer6"
   ]
  },
  {
   "cell_type": "code",
   "execution_count": 13,
   "id": "f794d49c",
   "metadata": {},
   "outputs": [
    {
     "data": {
      "text/plain": [
       "0.7575761331330662"
      ]
     },
     "execution_count": 13,
     "metadata": {},
     "output_type": "execute_result"
    }
   ],
   "source": [
    "from math import exp\n",
    "from scipy.stats import poisson\n",
    "\n",
    "def poisson_cdf(mean, k):\n",
    "    return poisson.cdf(k, mu=mean)\n",
    "\n",
    "# Example usage\n",
    "mean_lambda = 2.5\n",
    "point_k = 3\n",
    "\n",
    "result = poisson_cdf(mean_lambda, point_k)\n",
    "result\n"
   ]
  },
  {
   "cell_type": "markdown",
   "id": "11f88732",
   "metadata": {},
   "source": [
    "# Answer7"
   ]
  },
  {
   "cell_type": "code",
   "execution_count": null,
   "id": "ac6d4f58",
   "metadata": {},
   "outputs": [],
   "source": [
    "Definition: The Binomial distribution describes the number of successes \n",
    "in a fixed number of independent Bernoulli trials, where each trial has two possible outcomes (success or failure).\n",
    "Example: The number of heads obtained when flipping a coin n times, where \n",
    "p is the probability of getting heads on a single flip."
   ]
  },
  {
   "cell_type": "markdown",
   "id": "e5065954",
   "metadata": {},
   "source": [
    "# Answer8"
   ]
  },
  {
   "cell_type": "code",
   "execution_count": 21,
   "id": "fe582fd5",
   "metadata": {},
   "outputs": [
    {
     "data": {
      "text/plain": [
       "4.984"
      ]
     },
     "execution_count": 21,
     "metadata": {},
     "output_type": "execute_result"
    }
   ],
   "source": [
    "import numpy as np\n",
    "\n",
    "# Set the parameters\n",
    "mean_lambda = 5\n",
    "sample_size = 1000\n",
    "\n",
    "# Generate a random sample from a Poisson distribution\n",
    "random_sample = np.random.poisson(mean_lambda, sample_size)\n",
    "\n",
    "np.mean(random_sample)\n"
   ]
  },
  {
   "cell_type": "code",
   "execution_count": 22,
   "id": "2f5dd378",
   "metadata": {},
   "outputs": [
    {
     "data": {
      "text/plain": [
       "4.617744"
      ]
     },
     "execution_count": 22,
     "metadata": {},
     "output_type": "execute_result"
    }
   ],
   "source": [
    "np.var(random_sample)"
   ]
  },
  {
   "cell_type": "markdown",
   "id": "5a9c57fe",
   "metadata": {},
   "source": [
    "# Answer9"
   ]
  },
  {
   "cell_type": "code",
   "execution_count": null,
   "id": "5942d7f8",
   "metadata": {},
   "outputs": [],
   "source": [
    "The variance is directly related to the mean. For the binomial distribution, the variance depends on both the number of trials (\n",
    "n) and the probability of success (p), while for the Poisson distribution, the variance is equal to the mean (λ)."
   ]
  },
  {
   "cell_type": "markdown",
   "id": "3a682a91",
   "metadata": {},
   "source": [
    "# Answer10"
   ]
  },
  {
   "cell_type": "code",
   "execution_count": null,
   "id": "1be706b5",
   "metadata": {},
   "outputs": [],
   "source": [
    "In a normal distribution, the least frequent data appears in the tails of the distribution. The tails are the extreme ends of the distribution, far away from the mean. In a standard normal distribution (with mean =0\n",
    "μ=0 and standard deviation =1,σ=1), the least frequent data would appear in the tails, which are located at the more extreme values (far from 0).\n",
    "In general, the probability density is lower in the tails of a normal distribution, indicating that extreme values are less likely to occur. This is a characteristic feature of the bell-shaped curve of a normal distribution."
   ]
  }
 ],
 "metadata": {
  "kernelspec": {
   "display_name": "Python 3 (ipykernel)",
   "language": "python",
   "name": "python3"
  },
  "language_info": {
   "codemirror_mode": {
    "name": "ipython",
    "version": 3
   },
   "file_extension": ".py",
   "mimetype": "text/x-python",
   "name": "python",
   "nbconvert_exporter": "python",
   "pygments_lexer": "ipython3",
   "version": "3.11.4"
  }
 },
 "nbformat": 4,
 "nbformat_minor": 5
}
